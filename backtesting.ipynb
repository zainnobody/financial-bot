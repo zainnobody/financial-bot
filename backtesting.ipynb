{
 "cells": [
  {
   "cell_type": "code",
   "execution_count": 16,
   "metadata": {},
   "outputs": [
    {
     "name": "stdout",
     "output_type": "stream",
     "text": [
      "              Open    High     Low   Close    Volume\n",
      "2004-08-19  100.00  104.06   95.96  100.34  22351900\n",
      "2004-08-20  101.01  109.08  100.50  108.31  11428600\n",
      "2004-08-23  110.75  113.48  109.05  109.40   9137200\n",
      "2004-08-24  111.24  111.60  103.57  104.87   7631300\n",
      "2004-08-25  104.96  108.00  103.88  106.00   4598900\n",
      "...            ...     ...     ...     ...       ...\n",
      "2013-02-25  802.30  808.41  790.49  790.77   2303900\n",
      "2013-02-26  795.00  795.95  784.40  790.13   2202500\n",
      "2013-02-27  794.80  804.75  791.11  799.78   2026100\n",
      "2013-02-28  801.10  806.99  801.03  801.20   2265800\n",
      "2013-03-01  797.80  807.14  796.15  806.19   2175400\n",
      "\n",
      "[2148 rows x 5 columns]\n"
     ]
    }
   ],
   "source": [
    "from backtesting import Strategy, Backtest\n",
    "from backtesting.test import GOOG\n",
    "\n",
    "import talib\n",
    "\n",
    "\n",
    "from backtesting.lib import crossover\n",
    "print(GOOG)\n"
   ]
  },
  {
   "cell_type": "code",
   "execution_count": 20,
   "metadata": {},
   "outputs": [
    {
     "name": "stdout",
     "output_type": "stream",
     "text": [
      "Start                     2004-08-19 00:00:00\n",
      "End                       2013-03-01 00:00:00\n",
      "Duration                   3116 days 00:00:00\n",
      "Exposure Time [%]                   29.329609\n",
      "Equity Final [$]                      15677.5\n",
      "Equity Peak [$]                       15835.7\n",
      "Return [%]                             56.775\n",
      "Buy & Hold Return [%]              703.458242\n",
      "Return (Ann.) [%]                    5.416737\n",
      "Volatility (Ann.) [%]               23.502544\n",
      "Sharpe Ratio                         0.230475\n",
      "Sortino Ratio                        0.386423\n",
      "Calmar Ratio                         0.110499\n",
      "Max. Drawdown [%]                  -49.020734\n",
      "Avg. Drawdown [%]                   -6.135224\n",
      "Max. Drawdown Duration     1603 days 00:00:00\n",
      "Avg. Drawdown Duration       94 days 00:00:00\n",
      "# Trades                                   10\n",
      "Win Rate [%]                             80.0\n",
      "Best Trade [%]                      21.397983\n",
      "Worst Trade [%]                    -20.449092\n",
      "Avg. Trade [%]                       5.357299\n",
      "Max. Trade Duration         202 days 00:00:00\n",
      "Avg. Trade Duration          98 days 00:00:00\n",
      "Profit Factor                        3.862903\n",
      "Expectancy [%]                       5.995809\n",
      "SQN                                  1.227626\n",
      "_strategy                    rsi_initial_test\n",
      "_equity_curve                          Equ...\n",
      "_trades                      Size  EntryBa...\n",
      "dtype: object\n"
     ]
    }
   ],
   "source": [
    "class rsi_initial_test(Strategy):\n",
    "    \n",
    "    \n",
    "    upper_bound = 70\n",
    "    lower_bound = 30\n",
    "    rsi_window = 14\n",
    "    def init(self):\n",
    "\n",
    "        self.rsi = self.I(talib.RSI, self.data.Close, self.rsi_window)\n",
    "\n",
    "    def next(self):\n",
    "        \n",
    "        if crossover(self.rsi, self.upper_bound):\n",
    "             self.position.close()\n",
    "        elif crossover(self.lower_bound, self.rsi):\n",
    "            self.buy()\n",
    "            \n",
    "\n",
    "\n",
    "bt = Backtest(GOOG, rsi_initial_test, cash = 10_000)\n",
    "\n",
    "\n",
    "stats = bt.run()\n",
    "\n",
    "print(stats)\n"
   ]
  },
  {
   "cell_type": "code",
   "execution_count": 21,
   "metadata": {},
   "outputs": [
    {
     "data": {
      "text/html": [
       "<div style=\"display: table;\"><div style=\"display: table-row;\"><div style=\"display: table-cell;\"><b title=\"bokeh.models.layouts.Row\">Row</b>(</div><div style=\"display: table-cell;\">id&nbsp;=&nbsp;'2680', <span id=\"3411\" style=\"cursor: pointer;\">&hellip;)</span></div></div><div class=\"3410\" style=\"display: none;\"><div style=\"display: table-cell;\"></div><div style=\"display: table-cell;\">align&nbsp;=&nbsp;'start',</div></div><div class=\"3410\" style=\"display: none;\"><div style=\"display: table-cell;\"></div><div style=\"display: table-cell;\">aspect_ratio&nbsp;=&nbsp;None,</div></div><div class=\"3410\" style=\"display: none;\"><div style=\"display: table-cell;\"></div><div style=\"display: table-cell;\">background&nbsp;=&nbsp;None,</div></div><div class=\"3410\" style=\"display: none;\"><div style=\"display: table-cell;\"></div><div style=\"display: table-cell;\">children&nbsp;=&nbsp;[GridBox(id='2677', ...), ToolbarBox(id='2679', ...)],</div></div><div class=\"3410\" style=\"display: none;\"><div style=\"display: table-cell;\"></div><div style=\"display: table-cell;\">cols&nbsp;=&nbsp;'auto',</div></div><div class=\"3410\" style=\"display: none;\"><div style=\"display: table-cell;\"></div><div style=\"display: table-cell;\">css_classes&nbsp;=&nbsp;[],</div></div><div class=\"3410\" style=\"display: none;\"><div style=\"display: table-cell;\"></div><div style=\"display: table-cell;\">disabled&nbsp;=&nbsp;False,</div></div><div class=\"3410\" style=\"display: none;\"><div style=\"display: table-cell;\"></div><div style=\"display: table-cell;\">height&nbsp;=&nbsp;None,</div></div><div class=\"3410\" style=\"display: none;\"><div style=\"display: table-cell;\"></div><div style=\"display: table-cell;\">height_policy&nbsp;=&nbsp;'auto',</div></div><div class=\"3410\" style=\"display: none;\"><div style=\"display: table-cell;\"></div><div style=\"display: table-cell;\">js_event_callbacks&nbsp;=&nbsp;{},</div></div><div class=\"3410\" style=\"display: none;\"><div style=\"display: table-cell;\"></div><div style=\"display: table-cell;\">js_property_callbacks&nbsp;=&nbsp;{},</div></div><div class=\"3410\" style=\"display: none;\"><div style=\"display: table-cell;\"></div><div style=\"display: table-cell;\">margin&nbsp;=&nbsp;(0, 0, 0, 0),</div></div><div class=\"3410\" style=\"display: none;\"><div style=\"display: table-cell;\"></div><div style=\"display: table-cell;\">max_height&nbsp;=&nbsp;None,</div></div><div class=\"3410\" style=\"display: none;\"><div style=\"display: table-cell;\"></div><div style=\"display: table-cell;\">max_width&nbsp;=&nbsp;None,</div></div><div class=\"3410\" style=\"display: none;\"><div style=\"display: table-cell;\"></div><div style=\"display: table-cell;\">min_height&nbsp;=&nbsp;None,</div></div><div class=\"3410\" style=\"display: none;\"><div style=\"display: table-cell;\"></div><div style=\"display: table-cell;\">min_width&nbsp;=&nbsp;None,</div></div><div class=\"3410\" style=\"display: none;\"><div style=\"display: table-cell;\"></div><div style=\"display: table-cell;\">name&nbsp;=&nbsp;None,</div></div><div class=\"3410\" style=\"display: none;\"><div style=\"display: table-cell;\"></div><div style=\"display: table-cell;\">sizing_mode&nbsp;=&nbsp;'stretch_width',</div></div><div class=\"3410\" style=\"display: none;\"><div style=\"display: table-cell;\"></div><div style=\"display: table-cell;\">spacing&nbsp;=&nbsp;0,</div></div><div class=\"3410\" style=\"display: none;\"><div style=\"display: table-cell;\"></div><div style=\"display: table-cell;\">subscribed_events&nbsp;=&nbsp;[],</div></div><div class=\"3410\" style=\"display: none;\"><div style=\"display: table-cell;\"></div><div style=\"display: table-cell;\">syncable&nbsp;=&nbsp;True,</div></div><div class=\"3410\" style=\"display: none;\"><div style=\"display: table-cell;\"></div><div style=\"display: table-cell;\">tags&nbsp;=&nbsp;[],</div></div><div class=\"3410\" style=\"display: none;\"><div style=\"display: table-cell;\"></div><div style=\"display: table-cell;\">visible&nbsp;=&nbsp;True,</div></div><div class=\"3410\" style=\"display: none;\"><div style=\"display: table-cell;\"></div><div style=\"display: table-cell;\">width&nbsp;=&nbsp;None,</div></div><div class=\"3410\" style=\"display: none;\"><div style=\"display: table-cell;\"></div><div style=\"display: table-cell;\">width_policy&nbsp;=&nbsp;'auto')</div></div></div>\n",
       "<script>\n",
       "(function() {\n",
       "  let expanded = false;\n",
       "  const ellipsis = document.getElementById(\"3411\");\n",
       "  ellipsis.addEventListener(\"click\", function() {\n",
       "    const rows = document.getElementsByClassName(\"3410\");\n",
       "    for (let i = 0; i < rows.length; i++) {\n",
       "      const el = rows[i];\n",
       "      el.style.display = expanded ? \"none\" : \"table-row\";\n",
       "    }\n",
       "    ellipsis.innerHTML = expanded ? \"&hellip;)\" : \"&lsaquo;&lsaquo;&lsaquo;\";\n",
       "    expanded = !expanded;\n",
       "  });\n",
       "})();\n",
       "</script>\n"
      ],
      "text/plain": [
       "Row(id='2680', ...)"
      ]
     },
     "execution_count": 21,
     "metadata": {},
     "output_type": "execute_result"
    }
   ],
   "source": [
    "bt.plot()"
   ]
  },
  {
   "cell_type": "code",
   "execution_count": 25,
   "metadata": {},
   "outputs": [
    {
     "name": "stderr",
     "output_type": "stream",
     "text": [
      "/Users/zaina/Desktop/github/financial-bot/dataprepenv/lib/python3.9/site-packages/backtesting/backtesting.py:1488: UserWarning: Searching for best of 490 configurations.\n",
      "  output = _optimize_grid()\n",
      "/Users/zaina/Desktop/github/financial-bot/dataprepenv/lib/python3.9/site-packages/backtesting/backtesting.py:1375: UserWarning: For multiprocessing support in `Backtest.optimize()` set multiprocessing start method to 'fork'.\n",
      "  warnings.warn(\"For multiprocessing support in `Backtest.optimize()` \"\n"
     ]
    },
    {
     "data": {
      "application/vnd.jupyter.widget-view+json": {
       "model_id": "3adc9a1b3057445d91709720718c4e4d",
       "version_major": 2,
       "version_minor": 0
      },
      "text/plain": [
       "  0%|          | 0/13 [00:00<?, ?it/s]"
      ]
     },
     "metadata": {},
     "output_type": "display_data"
    },
    {
     "name": "stdout",
     "output_type": "stream",
     "text": [
      "Start                     2004-08-19 00:00:00\n",
      "End                       2013-03-01 00:00:00\n",
      "Duration                   3116 days 00:00:00\n",
      "Exposure Time [%]                   62.662942\n",
      "Equity Final [$]                     45486.35\n",
      "Equity Peak [$]                      45573.15\n",
      "Return [%]                           354.8635\n",
      "Buy & Hold Return [%]              703.458242\n",
      "Return (Ann.) [%]                   19.448742\n",
      "Volatility (Ann.) [%]               32.629176\n",
      "Sharpe Ratio                         0.596054\n",
      "Sortino Ratio                        1.122836\n",
      "Calmar Ratio                          0.35036\n",
      "Max. Drawdown [%]                  -55.510789\n",
      "Avg. Drawdown [%]                   -4.037504\n",
      "Max. Drawdown Duration      548 days 00:00:00\n",
      "Avg. Drawdown Duration       34 days 00:00:00\n",
      "# Trades                                   17\n",
      "Win Rate [%]                        76.470588\n",
      "Best Trade [%]                      41.689994\n",
      "Worst Trade [%]                    -27.637707\n",
      "Avg. Trade [%]                      11.346119\n",
      "Max. Trade Duration         240 days 00:00:00\n",
      "Avg. Trade Duration         119 days 00:00:00\n",
      "Profit Factor                        5.778866\n",
      "Expectancy [%]                      12.740143\n",
      "SQN                                  2.525661\n",
      "_strategy                 rsi_initial_test...\n",
      "_equity_curve                           Eq...\n",
      "_trades                       Size  EntryB...\n",
      "dtype: object\n"
     ]
    },
    {
     "data": {
      "text/html": [
       "<div style=\"display: table;\"><div style=\"display: table-row;\"><div style=\"display: table-cell;\"><b title=\"bokeh.models.layouts.Row\">Row</b>(</div><div style=\"display: table-cell;\">id&nbsp;=&nbsp;'3885', <span id=\"4616\" style=\"cursor: pointer;\">&hellip;)</span></div></div><div class=\"4615\" style=\"display: none;\"><div style=\"display: table-cell;\"></div><div style=\"display: table-cell;\">align&nbsp;=&nbsp;'start',</div></div><div class=\"4615\" style=\"display: none;\"><div style=\"display: table-cell;\"></div><div style=\"display: table-cell;\">aspect_ratio&nbsp;=&nbsp;None,</div></div><div class=\"4615\" style=\"display: none;\"><div style=\"display: table-cell;\"></div><div style=\"display: table-cell;\">background&nbsp;=&nbsp;None,</div></div><div class=\"4615\" style=\"display: none;\"><div style=\"display: table-cell;\"></div><div style=\"display: table-cell;\">children&nbsp;=&nbsp;[GridBox(id='3882', ...), ToolbarBox(id='3884', ...)],</div></div><div class=\"4615\" style=\"display: none;\"><div style=\"display: table-cell;\"></div><div style=\"display: table-cell;\">cols&nbsp;=&nbsp;'auto',</div></div><div class=\"4615\" style=\"display: none;\"><div style=\"display: table-cell;\"></div><div style=\"display: table-cell;\">css_classes&nbsp;=&nbsp;[],</div></div><div class=\"4615\" style=\"display: none;\"><div style=\"display: table-cell;\"></div><div style=\"display: table-cell;\">disabled&nbsp;=&nbsp;False,</div></div><div class=\"4615\" style=\"display: none;\"><div style=\"display: table-cell;\"></div><div style=\"display: table-cell;\">height&nbsp;=&nbsp;None,</div></div><div class=\"4615\" style=\"display: none;\"><div style=\"display: table-cell;\"></div><div style=\"display: table-cell;\">height_policy&nbsp;=&nbsp;'auto',</div></div><div class=\"4615\" style=\"display: none;\"><div style=\"display: table-cell;\"></div><div style=\"display: table-cell;\">js_event_callbacks&nbsp;=&nbsp;{},</div></div><div class=\"4615\" style=\"display: none;\"><div style=\"display: table-cell;\"></div><div style=\"display: table-cell;\">js_property_callbacks&nbsp;=&nbsp;{},</div></div><div class=\"4615\" style=\"display: none;\"><div style=\"display: table-cell;\"></div><div style=\"display: table-cell;\">margin&nbsp;=&nbsp;(0, 0, 0, 0),</div></div><div class=\"4615\" style=\"display: none;\"><div style=\"display: table-cell;\"></div><div style=\"display: table-cell;\">max_height&nbsp;=&nbsp;None,</div></div><div class=\"4615\" style=\"display: none;\"><div style=\"display: table-cell;\"></div><div style=\"display: table-cell;\">max_width&nbsp;=&nbsp;None,</div></div><div class=\"4615\" style=\"display: none;\"><div style=\"display: table-cell;\"></div><div style=\"display: table-cell;\">min_height&nbsp;=&nbsp;None,</div></div><div class=\"4615\" style=\"display: none;\"><div style=\"display: table-cell;\"></div><div style=\"display: table-cell;\">min_width&nbsp;=&nbsp;None,</div></div><div class=\"4615\" style=\"display: none;\"><div style=\"display: table-cell;\"></div><div style=\"display: table-cell;\">name&nbsp;=&nbsp;None,</div></div><div class=\"4615\" style=\"display: none;\"><div style=\"display: table-cell;\"></div><div style=\"display: table-cell;\">sizing_mode&nbsp;=&nbsp;'stretch_width',</div></div><div class=\"4615\" style=\"display: none;\"><div style=\"display: table-cell;\"></div><div style=\"display: table-cell;\">spacing&nbsp;=&nbsp;0,</div></div><div class=\"4615\" style=\"display: none;\"><div style=\"display: table-cell;\"></div><div style=\"display: table-cell;\">subscribed_events&nbsp;=&nbsp;[],</div></div><div class=\"4615\" style=\"display: none;\"><div style=\"display: table-cell;\"></div><div style=\"display: table-cell;\">syncable&nbsp;=&nbsp;True,</div></div><div class=\"4615\" style=\"display: none;\"><div style=\"display: table-cell;\"></div><div style=\"display: table-cell;\">tags&nbsp;=&nbsp;[],</div></div><div class=\"4615\" style=\"display: none;\"><div style=\"display: table-cell;\"></div><div style=\"display: table-cell;\">visible&nbsp;=&nbsp;True,</div></div><div class=\"4615\" style=\"display: none;\"><div style=\"display: table-cell;\"></div><div style=\"display: table-cell;\">width&nbsp;=&nbsp;None,</div></div><div class=\"4615\" style=\"display: none;\"><div style=\"display: table-cell;\"></div><div style=\"display: table-cell;\">width_policy&nbsp;=&nbsp;'auto')</div></div></div>\n",
       "<script>\n",
       "(function() {\n",
       "  let expanded = false;\n",
       "  const ellipsis = document.getElementById(\"4616\");\n",
       "  ellipsis.addEventListener(\"click\", function() {\n",
       "    const rows = document.getElementsByClassName(\"4615\");\n",
       "    for (let i = 0; i < rows.length; i++) {\n",
       "      const el = rows[i];\n",
       "      el.style.display = expanded ? \"none\" : \"table-row\";\n",
       "    }\n",
       "    ellipsis.innerHTML = expanded ? \"&hellip;)\" : \"&lsaquo;&lsaquo;&lsaquo;\";\n",
       "    expanded = !expanded;\n",
       "  });\n",
       "})();\n",
       "</script>\n"
      ],
      "text/plain": [
       "Row(id='3885', ...)"
      ]
     },
     "execution_count": 25,
     "metadata": {},
     "output_type": "execute_result"
    }
   ],
   "source": [
    "class rsi_initial_test(Strategy):\n",
    "    \n",
    "    \n",
    "    upper_bound = 70\n",
    "    lower_bound = 30\n",
    "    rsi_window = 14\n",
    "    def init(self):\n",
    "\n",
    "        self.rsi = self.I(talib.RSI, self.data.Close, self.rsi_window)\n",
    "\n",
    "    def next(self):\n",
    "        \n",
    "        if crossover(self.rsi, self.upper_bound):\n",
    "             self.position.close()\n",
    "        elif crossover(self.lower_bound, self.rsi):\n",
    "            self.buy()\n",
    "            \n",
    "\n",
    "\n",
    "bt = Backtest(GOOG, rsi_initial_test, cash = 10_000)\n",
    "\n",
    "# we can do an optomize funtion and it will go through everything to check the best strategy to maximize the value\n",
    "stats = bt.optimize(\n",
    "    upper_bound = range(50, 85, 5),\n",
    "    lower_bound = range(10, 45, 5),\n",
    "    rsi_window = range(10, 30, 2),\n",
    "    maximize= 'Sharpe Ratio'\n",
    ")\n",
    "\n",
    "print(stats)\n",
    "bt.plot()\n"
   ]
  },
  {
   "cell_type": "code",
   "execution_count": 26,
   "metadata": {},
   "outputs": [
    {
     "name": "stderr",
     "output_type": "stream",
     "text": [
      "/Users/zaina/Desktop/github/financial-bot/dataprepenv/lib/python3.9/site-packages/backtesting/backtesting.py:1488: UserWarning: Searching for best of 1050 configurations.\n",
      "  output = _optimize_grid()\n",
      "/Users/zaina/Desktop/github/financial-bot/dataprepenv/lib/python3.9/site-packages/backtesting/backtesting.py:1375: UserWarning: For multiprocessing support in `Backtest.optimize()` set multiprocessing start method to 'fork'.\n",
      "  warnings.warn(\"For multiprocessing support in `Backtest.optimize()` \"\n"
     ]
    },
    {
     "data": {
      "application/vnd.jupyter.widget-view+json": {
       "model_id": "009f6d15af124853b40edd8a333d3c64",
       "version_major": 2,
       "version_minor": 0
      },
      "text/plain": [
       "  0%|          | 0/13 [00:00<?, ?it/s]"
      ]
     },
     "metadata": {},
     "output_type": "display_data"
    },
    {
     "name": "stderr",
     "output_type": "stream",
     "text": [
      "/Users/zaina/Desktop/github/financial-bot/dataprepenv/lib/python3.9/site-packages/backtesting/_stats.py:122: RuntimeWarning: divide by zero encountered in scalar divide\n",
      "  s.loc['Sortino Ratio'] = np.clip((annualized_return - risk_free_rate) / (np.sqrt(np.mean(day_returns.clip(-np.inf, 0)**2)) * np.sqrt(annual_trading_days)), 0, np.inf)  # noqa: E501\n"
     ]
    },
    {
     "name": "stdout",
     "output_type": "stream",
     "text": [
      "Start                     2004-08-19 00:00:00\n",
      "End                       2013-03-01 00:00:00\n",
      "Duration                   3116 days 00:00:00\n",
      "Exposure Time [%]                    2.700186\n",
      "Equity Final [$]                     17969.87\n",
      "Equity Peak [$]                      17969.87\n",
      "Return [%]                            79.6987\n",
      "Buy & Hold Return [%]              703.458242\n",
      "Return (Ann.) [%]                    7.118088\n",
      "Volatility (Ann.) [%]                8.260094\n",
      "Sharpe Ratio                         0.861744\n",
      "Sortino Ratio                        3.027966\n",
      "Calmar Ratio                         0.915521\n",
      "Max. Drawdown [%]                   -7.774904\n",
      "Avg. Drawdown [%]                   -1.881758\n",
      "Max. Drawdown Duration      196 days 00:00:00\n",
      "Avg. Drawdown Duration       46 days 00:00:00\n",
      "# Trades                                   15\n",
      "Win Rate [%]                        86.666667\n",
      "Best Trade [%]                      25.664197\n",
      "Worst Trade [%]                     -1.176867\n",
      "Avg. Trade [%]                       4.021514\n",
      "Max. Trade Duration           9 days 00:00:00\n",
      "Avg. Trade Duration           5 days 00:00:00\n",
      "Profit Factor                       47.325873\n",
      "Expectancy [%]                       4.191486\n",
      "SQN                                  2.604818\n",
      "_strategy                 rsi_initial_test...\n",
      "_equity_curve                           Eq...\n",
      "_trades                       Size  EntryB...\n",
      "dtype: object\n"
     ]
    },
    {
     "data": {
      "text/html": [
       "<div style=\"display: table;\"><div style=\"display: table-row;\"><div style=\"display: table-cell;\"><b title=\"bokeh.models.layouts.Row\">Row</b>(</div><div style=\"display: table-cell;\">id&nbsp;=&nbsp;'5090', <span id=\"5821\" style=\"cursor: pointer;\">&hellip;)</span></div></div><div class=\"5820\" style=\"display: none;\"><div style=\"display: table-cell;\"></div><div style=\"display: table-cell;\">align&nbsp;=&nbsp;'start',</div></div><div class=\"5820\" style=\"display: none;\"><div style=\"display: table-cell;\"></div><div style=\"display: table-cell;\">aspect_ratio&nbsp;=&nbsp;None,</div></div><div class=\"5820\" style=\"display: none;\"><div style=\"display: table-cell;\"></div><div style=\"display: table-cell;\">background&nbsp;=&nbsp;None,</div></div><div class=\"5820\" style=\"display: none;\"><div style=\"display: table-cell;\"></div><div style=\"display: table-cell;\">children&nbsp;=&nbsp;[GridBox(id='5087', ...), ToolbarBox(id='5089', ...)],</div></div><div class=\"5820\" style=\"display: none;\"><div style=\"display: table-cell;\"></div><div style=\"display: table-cell;\">cols&nbsp;=&nbsp;'auto',</div></div><div class=\"5820\" style=\"display: none;\"><div style=\"display: table-cell;\"></div><div style=\"display: table-cell;\">css_classes&nbsp;=&nbsp;[],</div></div><div class=\"5820\" style=\"display: none;\"><div style=\"display: table-cell;\"></div><div style=\"display: table-cell;\">disabled&nbsp;=&nbsp;False,</div></div><div class=\"5820\" style=\"display: none;\"><div style=\"display: table-cell;\"></div><div style=\"display: table-cell;\">height&nbsp;=&nbsp;None,</div></div><div class=\"5820\" style=\"display: none;\"><div style=\"display: table-cell;\"></div><div style=\"display: table-cell;\">height_policy&nbsp;=&nbsp;'auto',</div></div><div class=\"5820\" style=\"display: none;\"><div style=\"display: table-cell;\"></div><div style=\"display: table-cell;\">js_event_callbacks&nbsp;=&nbsp;{},</div></div><div class=\"5820\" style=\"display: none;\"><div style=\"display: table-cell;\"></div><div style=\"display: table-cell;\">js_property_callbacks&nbsp;=&nbsp;{},</div></div><div class=\"5820\" style=\"display: none;\"><div style=\"display: table-cell;\"></div><div style=\"display: table-cell;\">margin&nbsp;=&nbsp;(0, 0, 0, 0),</div></div><div class=\"5820\" style=\"display: none;\"><div style=\"display: table-cell;\"></div><div style=\"display: table-cell;\">max_height&nbsp;=&nbsp;None,</div></div><div class=\"5820\" style=\"display: none;\"><div style=\"display: table-cell;\"></div><div style=\"display: table-cell;\">max_width&nbsp;=&nbsp;None,</div></div><div class=\"5820\" style=\"display: none;\"><div style=\"display: table-cell;\"></div><div style=\"display: table-cell;\">min_height&nbsp;=&nbsp;None,</div></div><div class=\"5820\" style=\"display: none;\"><div style=\"display: table-cell;\"></div><div style=\"display: table-cell;\">min_width&nbsp;=&nbsp;None,</div></div><div class=\"5820\" style=\"display: none;\"><div style=\"display: table-cell;\"></div><div style=\"display: table-cell;\">name&nbsp;=&nbsp;None,</div></div><div class=\"5820\" style=\"display: none;\"><div style=\"display: table-cell;\"></div><div style=\"display: table-cell;\">sizing_mode&nbsp;=&nbsp;'stretch_width',</div></div><div class=\"5820\" style=\"display: none;\"><div style=\"display: table-cell;\"></div><div style=\"display: table-cell;\">spacing&nbsp;=&nbsp;0,</div></div><div class=\"5820\" style=\"display: none;\"><div style=\"display: table-cell;\"></div><div style=\"display: table-cell;\">subscribed_events&nbsp;=&nbsp;[],</div></div><div class=\"5820\" style=\"display: none;\"><div style=\"display: table-cell;\"></div><div style=\"display: table-cell;\">syncable&nbsp;=&nbsp;True,</div></div><div class=\"5820\" style=\"display: none;\"><div style=\"display: table-cell;\"></div><div style=\"display: table-cell;\">tags&nbsp;=&nbsp;[],</div></div><div class=\"5820\" style=\"display: none;\"><div style=\"display: table-cell;\"></div><div style=\"display: table-cell;\">visible&nbsp;=&nbsp;True,</div></div><div class=\"5820\" style=\"display: none;\"><div style=\"display: table-cell;\"></div><div style=\"display: table-cell;\">width&nbsp;=&nbsp;None,</div></div><div class=\"5820\" style=\"display: none;\"><div style=\"display: table-cell;\"></div><div style=\"display: table-cell;\">width_policy&nbsp;=&nbsp;'auto')</div></div></div>\n",
       "<script>\n",
       "(function() {\n",
       "  let expanded = false;\n",
       "  const ellipsis = document.getElementById(\"5821\");\n",
       "  ellipsis.addEventListener(\"click\", function() {\n",
       "    const rows = document.getElementsByClassName(\"5820\");\n",
       "    for (let i = 0; i < rows.length; i++) {\n",
       "      const el = rows[i];\n",
       "      el.style.display = expanded ? \"none\" : \"table-row\";\n",
       "    }\n",
       "    ellipsis.innerHTML = expanded ? \"&hellip;)\" : \"&lsaquo;&lsaquo;&lsaquo;\";\n",
       "    expanded = !expanded;\n",
       "  });\n",
       "})();\n",
       "</script>\n"
      ],
      "text/plain": [
       "Row(id='5090', ...)"
      ]
     },
     "execution_count": 26,
     "metadata": {},
     "output_type": "execute_result"
    }
   ],
   "source": [
    "class rsi_initial_test(Strategy):\n",
    "    \n",
    "    \n",
    "    upper_bound = 70\n",
    "    lower_bound = 30\n",
    "    rsi_window = 14\n",
    "    def init(self):\n",
    "\n",
    "        self.rsi = self.I(talib.RSI, self.data.Close, self.rsi_window)\n",
    "\n",
    "    def next(self):\n",
    "        \n",
    "        if crossover(self.rsi, self.upper_bound):\n",
    "             self.position.close()\n",
    "        elif crossover(self.lower_bound, self.rsi):\n",
    "            self.buy()\n",
    "            \n",
    "\n",
    "\n",
    "bt = Backtest(GOOG, rsi_initial_test, cash = 10_000)\n",
    "\n",
    "\n",
    "stats = bt.optimize(\n",
    "    upper_bound = range(10, 85, 5),\n",
    "    lower_bound = range(10, 85, 5),\n",
    "    rsi_window = range(10, 30, 2),\n",
    "    maximize= 'Sharpe Ratio',\n",
    "    # if you cant to put constrains on any of the variables\n",
    "    constraint= lambda param: param.upper_bound > param.lower_bound \n",
    ")\n",
    "\n",
    "print(stats)\n",
    "bt.plot()\n"
   ]
  },
  {
   "cell_type": "code",
   "execution_count": 29,
   "metadata": {},
   "outputs": [
    {
     "name": "stderr",
     "output_type": "stream",
     "text": [
      "/Users/zaina/Desktop/github/financial-bot/dataprepenv/lib/python3.9/site-packages/backtesting/backtesting.py:1488: UserWarning: Searching for best of 490 configurations.\n",
      "  output = _optimize_grid()\n",
      "/Users/zaina/Desktop/github/financial-bot/dataprepenv/lib/python3.9/site-packages/backtesting/backtesting.py:1375: UserWarning: For multiprocessing support in `Backtest.optimize()` set multiprocessing start method to 'fork'.\n",
      "  warnings.warn(\"For multiprocessing support in `Backtest.optimize()` \"\n"
     ]
    },
    {
     "data": {
      "application/vnd.jupyter.widget-view+json": {
       "model_id": "e9d9d82893ec4f2b8124ed4b383b6e90",
       "version_major": 2,
       "version_minor": 0
      },
      "text/plain": [
       "  0%|          | 0/13 [00:00<?, ?it/s]"
      ]
     },
     "metadata": {},
     "output_type": "display_data"
    },
    {
     "name": "stdout",
     "output_type": "stream",
     "text": [
      "Start                     2004-08-19 00:00:00\n",
      "End                       2013-03-01 00:00:00\n",
      "Duration                   3116 days 00:00:00\n",
      "Exposure Time [%]                   11.638734\n",
      "Equity Final [$]                     12395.63\n",
      "Equity Peak [$]                      12395.63\n",
      "Return [%]                            23.9563\n",
      "Buy & Hold Return [%]              703.458242\n",
      "Return (Ann.) [%]                    2.551526\n",
      "Volatility (Ann.) [%]               12.956602\n",
      "Sharpe Ratio                         0.196929\n",
      "Sortino Ratio                        0.317329\n",
      "Calmar Ratio                         0.070183\n",
      "Max. Drawdown [%]                  -36.355136\n",
      "Avg. Drawdown [%]                   -5.067232\n",
      "Max. Drawdown Duration     1484 days 00:00:00\n",
      "Avg. Drawdown Duration      212 days 00:00:00\n",
      "# Trades                                   15\n",
      "Win Rate [%]                             80.0\n",
      "Best Trade [%]                       8.633789\n",
      "Worst Trade [%]                    -27.391912\n",
      "Avg. Trade [%]                        1.84357\n",
      "Max. Trade Duration          76 days 00:00:00\n",
      "Avg. Trade Duration          25 days 00:00:00\n",
      "Profit Factor                        2.192635\n",
      "Expectancy [%]                       2.259432\n",
      "SQN                                  0.649923\n",
      "_strategy                 rsi_initial_test...\n",
      "_equity_curve                           Eq...\n",
      "_trades                       Size  EntryB...\n",
      "dtype: object\n"
     ]
    },
    {
     "ename": "TypeError",
     "evalue": "plot() got an unexpected keyword argument 'dir'",
     "output_type": "error",
     "traceback": [
      "\u001b[0;31m---------------------------------------------------------------------------\u001b[0m",
      "\u001b[0;31mTypeError\u001b[0m                                 Traceback (most recent call last)",
      "Cell \u001b[0;32mIn[29], line 44\u001b[0m\n\u001b[1;32m     35\u001b[0m stats \u001b[38;5;241m=\u001b[39m bt\u001b[38;5;241m.\u001b[39moptimize(\n\u001b[1;32m     36\u001b[0m     upper_bound \u001b[38;5;241m=\u001b[39m \u001b[38;5;28mrange\u001b[39m(\u001b[38;5;241m50\u001b[39m, \u001b[38;5;241m85\u001b[39m, \u001b[38;5;241m5\u001b[39m),\n\u001b[1;32m     37\u001b[0m     lower_bound \u001b[38;5;241m=\u001b[39m \u001b[38;5;28mrange\u001b[39m(\u001b[38;5;241m10\u001b[39m, \u001b[38;5;241m45\u001b[39m, \u001b[38;5;241m5\u001b[39m),\n\u001b[0;32m   (...)\u001b[0m\n\u001b[1;32m     40\u001b[0m \n\u001b[1;32m     41\u001b[0m )\n\u001b[1;32m     43\u001b[0m \u001b[38;5;28mprint\u001b[39m(stats)\n\u001b[0;32m---> 44\u001b[0m \u001b[43mbt\u001b[49m\u001b[38;5;241;43m.\u001b[39;49m\u001b[43mplot\u001b[49m\u001b[43m(\u001b[49m\u001b[38;5;28;43mdir\u001b[39;49m\u001b[38;5;241;43m=\u001b[39;49m\u001b[38;5;124;43m'\u001b[39;49m\u001b[38;5;124;43mbacktesting\u001b[39;49m\u001b[38;5;124;43m'\u001b[39;49m\u001b[43m)\u001b[49m\n",
      "\u001b[0;31mTypeError\u001b[0m: plot() got an unexpected keyword argument 'dir'"
     ]
    }
   ],
   "source": [
    "class rsi_initial_test(Strategy):\n",
    "    \n",
    "    \n",
    "    upper_bound = 70\n",
    "    lower_bound = 30\n",
    "    rsi_window = 14\n",
    "    def init(self):\n",
    "\n",
    "        self.rsi = self.I(talib.RSI, self.data.Close, self.rsi_window)\n",
    "\n",
    "    def next(self):\n",
    "        \n",
    "        if crossover(self.rsi, self.upper_bound):\n",
    "             self.position.close()\n",
    "        elif crossover(self.lower_bound, self.rsi):\n",
    "            self.buy()\n",
    "            \n",
    "# one can create their own optomization funtion \n",
    "\n",
    "def optomize_func(series):\n",
    "\n",
    "    if  series['# Trades']< 10:\n",
    "        return -1\n",
    "\n",
    "    return series['Equity Final [$]']/series['Exposure Time [%]']\n",
    "\n",
    "# Got stuck in a local minuma so add a case to get out of the trade\n",
    "# def optomize_func(series):\n",
    "\n",
    "#     return series['Equity Final [$]']/series['Exposure Time [%]']\n",
    "\n",
    "\n",
    "bt = Backtest(GOOG, rsi_initial_test, cash = 10_000)\n",
    "\n",
    "stats = bt.optimize(\n",
    "    upper_bound = range(50, 85, 5),\n",
    "    lower_bound = range(10, 45, 5),\n",
    "    rsi_window = range(10, 30, 2),\n",
    "    maximize= optomize_func,\n",
    "\n",
    ")\n",
    "\n",
    "print(stats)\n",
    "\n",
    "best_trategy_name = stats._strategy\n",
    "bt.plot(dir=f'backtesting/{best_trategy_name}')\n"
   ]
  },
  {
   "cell_type": "code",
   "execution_count": 30,
   "metadata": {},
   "outputs": [
    {
     "name": "stdout",
     "output_type": "stream",
     "text": [
      "rsi_initial_test(upper_bound=50,lower_bound=25,rsi_window=10)\n"
     ]
    }
   ],
   "source": [
    "print(stats._strategy)\n"
   ]
  }
 ],
 "metadata": {
  "kernelspec": {
   "display_name": "dataprepenv",
   "language": "python",
   "name": "python3"
  },
  "language_info": {
   "codemirror_mode": {
    "name": "ipython",
    "version": 3
   },
   "file_extension": ".py",
   "mimetype": "text/x-python",
   "name": "python",
   "nbconvert_exporter": "python",
   "pygments_lexer": "ipython3",
   "version": "3.9.6"
  }
 },
 "nbformat": 4,
 "nbformat_minor": 2
}
